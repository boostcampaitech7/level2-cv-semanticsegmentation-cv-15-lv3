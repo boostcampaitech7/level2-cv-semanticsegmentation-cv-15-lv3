{
 "cells": [
  {
   "cell_type": "markdown",
   "id": "GFaqO6a9XIBa",
   "metadata": {
    "id": "GFaqO6a9XIBa"
   },
   "source": [
    "# 1. 과제 개요\n",
    "\n",
    "과제는 UNet, UNet++ 중에서 하나를 선택하고 PyTorch로 만들기입니다."
   ]
  },
  {
   "cell_type": "markdown",
   "id": "UnLgCGQ4XJ8B",
   "metadata": {
    "id": "UnLgCGQ4XJ8B"
   },
   "source": [
    "# 2. 과제 출제 목적 및 배경\n",
    "\n",
    "대회의 베이스라인 코드의 흐름을 익히고, 강의에서 배운 모델들을 하나씩 스스로 만들어보면서 파이토치와 모델 코드 작성에 대한 실력을 기르는 것이 목표입니다.\n"
   ]
  },
  {
   "cell_type": "markdown",
   "id": "8mrmWSJWXOHR",
   "metadata": {
    "id": "8mrmWSJWXOHR"
   },
   "source": [
    "# 3. 과제 수행으로 얻어갈 수 있는 역량\n",
    "\n",
    "UNet, UNet++ 모델에 대한 이해와 대회 베이스라인 코드에 대한 이해를 하실 수 있습니다."
   ]
  },
  {
   "cell_type": "markdown",
   "id": "AC5kZhKza3li",
   "metadata": {
    "id": "AC5kZhKza3li"
   },
   "source": [
    "# Required Package\n",
    "\n",
    "```\n",
    "opencv-python-headless==4.10.0.84\n",
    "pandas==2.2.3\n",
    "scikit-learn==1.5.2\n",
    "albumentations==1.4.18\n",
    "matplotlib==3.9.2\n",
    "```"
   ]
  },
  {
   "cell_type": "markdown",
   "id": "bbc61c2e",
   "metadata": {},
   "source": []
  },
  {
   "cell_type": "markdown",
   "id": "2e3c607a",
   "metadata": {
    "id": "2e3c607a"
   },
   "source": [
    "# Table of Contents\n",
    "\n",
    "1. [Imports & Global Constants](#Imports-&-Global-Constants)\n",
    "2. [Check the Size of the Dataset](#Check-the-Size-of-the-Dataset)\n",
    "3. [Define Dataset Class](#Define-Dataset-Class)\n",
    "4. [Check Data Sample](#Check-Data-Sample)\n",
    "5. [Setup Dataloader](#Setup-Dataloader)\n",
    "6. [Define Functions for Training](#Define-Functions-for-Training)\n",
    "7. [Define the Model and Train](#Define-the-Model-and-Train)\n",
    "8. [Inference](#Inference)\n",
    "9. [Result Visualization](#Result-Visualization)\n",
    "10. [To CSV](#To-CSV)"
   ]
  },
  {
   "cell_type": "markdown",
   "id": "2c2d2121",
   "metadata": {
    "id": "2c2d2121"
   },
   "source": [
    "# Imports & Global Constants"
   ]
  },
  {
   "cell_type": "code",
   "execution_count": 37,
   "id": "c8295cb6",
   "metadata": {
    "id": "c8295cb6"
   },
   "outputs": [],
   "source": [
    "# python native\n",
    "import os\n",
    "import json\n",
    "import random\n",
    "import datetime\n",
    "from functools import partial\n",
    "\n",
    "# external library\n",
    "import cv2\n",
    "import numpy as np\n",
    "import pandas as pd\n",
    "from tqdm.auto import tqdm\n",
    "from sklearn.model_selection import GroupKFold\n",
    "import albumentations as A\n",
    "\n",
    "# torch\n",
    "import torch\n",
    "import torch.nn as nn\n",
    "import torch.nn.functional as F\n",
    "import torch.optim as optim\n",
    "from torch.utils.data import Dataset, DataLoader\n",
    "from torchvision import models\n",
    "\n",
    "# visualization\n",
    "import matplotlib.pyplot as plt"
   ]
  },
  {
   "cell_type": "code",
   "execution_count": 38,
   "id": "1d6746cc",
   "metadata": {
    "id": "1d6746cc"
   },
   "outputs": [],
   "source": [
    "# 데이터 경로를 입력하세요\n",
    "\n",
    "IMAGE_ROOT = \"/data/ephemeral/home/MCG/data/train/DCM\"\n",
    "LABEL_ROOT = \"/data/ephemeral/home/MCG/data/train/outputs_json\""
   ]
  },
  {
   "cell_type": "code",
   "execution_count": 39,
   "id": "819e163c",
   "metadata": {
    "id": "819e163c"
   },
   "outputs": [],
   "source": [
    "CLASSES = [\n",
    "    'finger-1', 'finger-2', 'finger-3', 'finger-4', 'finger-5',\n",
    "    'finger-6', 'finger-7', 'finger-8', 'finger-9', 'finger-10',\n",
    "    'finger-11', 'finger-12', 'finger-13', 'finger-14', 'finger-15',\n",
    "    'finger-16', 'finger-17', 'finger-18', 'finger-19', 'Trapezium',\n",
    "    'Trapezoid', 'Capitate', 'Hamate', 'Scaphoid', 'Lunate',\n",
    "    'Triquetrum', 'Pisiform', 'Radius', 'Ulna',\n",
    "]"
   ]
  },
  {
   "cell_type": "code",
   "execution_count": 40,
   "id": "3192cd81",
   "metadata": {
    "id": "3192cd81"
   },
   "outputs": [],
   "source": [
    "CLASS2IND = {v: i for i, v in enumerate(CLASSES)}"
   ]
  },
  {
   "cell_type": "code",
   "execution_count": 41,
   "id": "1aef86f9",
   "metadata": {
    "id": "1aef86f9"
   },
   "outputs": [],
   "source": [
    "IND2CLASS = {v: k for k, v in CLASS2IND.items()}"
   ]
  },
  {
   "cell_type": "code",
   "execution_count": 42,
   "id": "cb199e3d",
   "metadata": {
    "id": "cb199e3d"
   },
   "outputs": [],
   "source": [
    "BATCH_SIZE = 2\n",
    "RANDOM_SEED = 21\n",
    "\n",
    "# 적절하게 조절\n",
    "NUM_EPOCHS =30\n",
    "VAL_EVERY = 1\n",
    "IMSIZE=512\n",
    "LR = 0.0003\n",
    "MILESTONES=[8,15,22,26]\n",
    "GAMMA=0.3\n",
    "\n",
    "SAVED_DIR = \"/data/ephemeral/home/MCG/UNet3+Fin/model/\"\n",
    "\n",
    "if not os.path.isdir(SAVED_DIR):\n",
    "    os.mkdir(SAVED_DIR)"
   ]
  },
  {
   "cell_type": "markdown",
   "id": "52cc2a79",
   "metadata": {
    "id": "52cc2a79"
   },
   "source": [
    "# Check the Size of the Dataset"
   ]
  },
  {
   "cell_type": "markdown",
   "id": "93533655",
   "metadata": {
    "id": "93533655"
   },
   "source": [
    "`IMAGE_ROOT` 아래에 있는 모든 폴더를 재귀적으로 순회하면서 확장자가 `.png`인 파일들을 찾습니다."
   ]
  },
  {
   "cell_type": "code",
   "execution_count": 43,
   "id": "a0782493",
   "metadata": {
    "id": "a0782493"
   },
   "outputs": [],
   "source": [
    "pngs = {\n",
    "    os.path.relpath(os.path.join(root, fname), start=IMAGE_ROOT)\n",
    "    for root, _dirs, files in os.walk(IMAGE_ROOT)\n",
    "    for fname in files\n",
    "    if os.path.splitext(fname)[1].lower() == \".png\"\n",
    "}"
   ]
  },
  {
   "cell_type": "code",
   "execution_count": 44,
   "id": "91a88b61",
   "metadata": {
    "id": "91a88b61"
   },
   "outputs": [
    {
     "data": {
      "text/plain": [
       "800"
      ]
     },
     "execution_count": 44,
     "metadata": {},
     "output_type": "execute_result"
    }
   ],
   "source": [
    "len(pngs)"
   ]
  },
  {
   "cell_type": "markdown",
   "id": "d2247d10",
   "metadata": {
    "id": "d2247d10"
   },
   "source": [
    "마찬가지로 `LABEL_ROOT` 아래에 있는 모든 폴더를 재귀적으로 순회하면서 확장자가 `.json`인 파일들을 찾습니다."
   ]
  },
  {
   "cell_type": "code",
   "execution_count": 45,
   "id": "be21a515",
   "metadata": {
    "id": "be21a515"
   },
   "outputs": [],
   "source": [
    "jsons = {\n",
    "    os.path.relpath(os.path.join(root, fname), start=LABEL_ROOT)\n",
    "    for root, _dirs, files in os.walk(LABEL_ROOT)\n",
    "    for fname in files\n",
    "    if os.path.splitext(fname)[1].lower() == \".json\"\n",
    "}"
   ]
  },
  {
   "cell_type": "code",
   "execution_count": 46,
   "id": "eb99fd10",
   "metadata": {
    "id": "eb99fd10"
   },
   "outputs": [
    {
     "data": {
      "text/plain": [
       "800"
      ]
     },
     "execution_count": 46,
     "metadata": {},
     "output_type": "execute_result"
    }
   ],
   "source": [
    "len(jsons)"
   ]
  },
  {
   "cell_type": "markdown",
   "id": "653c3526",
   "metadata": {
    "id": "653c3526"
   },
   "source": [
    "모든 `.png` 파일에 대해 `.json` pair가 존재하는지 체크합니다. 파일명에서 확장자를 제거한 set을 생성하고 두 집합의 차집합의 크기가 0인지 확인합니다."
   ]
  },
  {
   "cell_type": "code",
   "execution_count": 47,
   "id": "51eba0f1",
   "metadata": {
    "id": "51eba0f1"
   },
   "outputs": [],
   "source": [
    "jsons_fn_prefix = {os.path.splitext(fname)[0] for fname in jsons}\n",
    "pngs_fn_prefix = {os.path.splitext(fname)[0] for fname in pngs}\n",
    "\n",
    "assert len(jsons_fn_prefix - pngs_fn_prefix) == 0\n",
    "assert len(pngs_fn_prefix - jsons_fn_prefix) == 0"
   ]
  },
  {
   "cell_type": "markdown",
   "id": "b13ee425",
   "metadata": {
    "id": "b13ee425"
   },
   "source": [
    "모든 `.png` 파일에 대해 label이 존재하는 것을 확인했습니다. 이름 순으로 정렬해서 짝이 맞도록 합니다."
   ]
  },
  {
   "cell_type": "code",
   "execution_count": 48,
   "id": "f589a513",
   "metadata": {
    "id": "f589a513"
   },
   "outputs": [],
   "source": [
    "pngs = sorted(pngs)\n",
    "jsons = sorted(jsons)"
   ]
  },
  {
   "cell_type": "code",
   "execution_count": 49,
   "id": "93be9455",
   "metadata": {
    "id": "93be9455"
   },
   "outputs": [],
   "source": [
    "pngs = np.array(pngs)\n",
    "jsons = np.array(jsons)"
   ]
  },
  {
   "cell_type": "markdown",
   "id": "662f69ee",
   "metadata": {
    "id": "662f69ee"
   },
   "source": [
    "# Define Dataset Class"
   ]
  },
  {
   "cell_type": "code",
   "execution_count": 50,
   "id": "7b0d5bf7",
   "metadata": {
    "id": "7b0d5bf7"
   },
   "outputs": [],
   "source": [
    "class XRayDataset(Dataset):\n",
    "    def __init__(self, filenames, labelnames, transforms=None, is_train=False):\n",
    "        self.filenames = filenames\n",
    "        self.labelnames = labelnames\n",
    "        self.is_train = is_train\n",
    "        self.transforms = transforms\n",
    "\n",
    "    def __len__(self):\n",
    "        return len(self.filenames)\n",
    "\n",
    "    def __getitem__(self, item):\n",
    "        image_name = self.filenames[item]\n",
    "        image_path = os.path.join(IMAGE_ROOT, image_name)\n",
    "\n",
    "        image = cv2.imread(image_path)\n",
    "        image = image / 255.\n",
    "\n",
    "        label_name = self.labelnames[item]\n",
    "        label_path = os.path.join(LABEL_ROOT, label_name)\n",
    "\n",
    "        # process a label of shape (H, W, NC)\n",
    "        label_shape = tuple(image.shape[:2]) + (len(CLASSES), )\n",
    "        label = np.zeros(label_shape, dtype=np.uint8)\n",
    "\n",
    "        # read label file\n",
    "        with open(label_path, \"r\") as f:\n",
    "            annotations = json.load(f)\n",
    "        annotations = annotations[\"annotations\"]\n",
    "\n",
    "        # iterate each class\n",
    "        for ann in annotations:\n",
    "            c = ann[\"label\"]\n",
    "            class_ind = CLASS2IND[c]\n",
    "            points = np.array(ann[\"points\"])\n",
    "\n",
    "            # polygon to mask\n",
    "            class_label = np.zeros(image.shape[:2], dtype=np.uint8)\n",
    "            cv2.fillPoly(class_label, [points], 1)\n",
    "            label[..., class_ind] = class_label\n",
    "\n",
    "        if self.transforms is not None:\n",
    "            inputs = {\"image\": image, \"mask\": label} if self.is_train else {\"image\": image}\n",
    "            result = self.transforms(**inputs)\n",
    "\n",
    "            image = result[\"image\"]\n",
    "            label = result[\"mask\"] if self.is_train else label\n",
    "\n",
    "        # to tenser will be done later\n",
    "        image = image.transpose(2, 0, 1)    # make channel first\n",
    "        label = label.transpose(2, 0, 1)\n",
    "\n",
    "        image = torch.from_numpy(image).float()\n",
    "        label = torch.from_numpy(label).float()\n",
    "\n",
    "        return image, label"
   ]
  },
  {
   "cell_type": "code",
   "execution_count": 51,
   "id": "7acf2569",
   "metadata": {
    "id": "7acf2569"
   },
   "outputs": [],
   "source": [
    "# split train-valid\n",
    "# 한 폴더 안에 한 인물의 양손에 대한 `.png` 파일이 존재하기 때문에\n",
    "# 폴더 이름을 그룹으로 해서 GroupKFold를 수행합니다.\n",
    "# 동일 인물의 손이 train, valid에 따로 들어가는 것을 방지합니다.\n",
    "groups = [os.path.dirname(fname) for fname in pngs]\n",
    "\n",
    "# dummy label\n",
    "ys = [0 for fname in pngs]\n",
    "\n",
    "# 전체 데이터의 20%를 validation data로 쓰기 위해 `n_splits`를\n",
    "# 5으로 설정하여 GroupKFold를 수행합니다.\n",
    "gkf = GroupKFold(n_splits=5)\n",
    "\n",
    "train_filenames = []\n",
    "train_labelnames = []\n",
    "valid_filenames = []\n",
    "valid_labelnames = []\n",
    "for i, (x, y) in enumerate(gkf.split(pngs, ys, groups)):\n",
    "    # 0번을 validation dataset으로 사용합니다.\n",
    "    if i == 0:\n",
    "        valid_filenames += list(pngs[y])\n",
    "        valid_labelnames += list(jsons[y])\n",
    "\n",
    "    else:\n",
    "        train_filenames += list(pngs[y])\n",
    "        train_labelnames += list(jsons[y])"
   ]
  },
  {
   "cell_type": "markdown",
   "id": "302e7742",
   "metadata": {
    "id": "302e7742"
   },
   "source": [
    "# Check Data Sample"
   ]
  },
  {
   "cell_type": "code",
   "execution_count": 52,
   "id": "89defc8c",
   "metadata": {
    "id": "89defc8c"
   },
   "outputs": [],
   "source": [
    "# define colors\n",
    "PALETTE = [\n",
    "    (220, 20, 60), (119, 11, 32), (0, 0, 142), (0, 0, 230), (106, 0, 228),\n",
    "    (0, 60, 100), (0, 80, 100), (0, 0, 70), (0, 0, 192), (250, 170, 30),\n",
    "    (100, 170, 30), (220, 220, 0), (175, 116, 175), (250, 0, 30), (165, 42, 42),\n",
    "    (255, 77, 255), (0, 226, 252), (182, 182, 255), (0, 82, 0), (120, 166, 157),\n",
    "    (110, 76, 0), (174, 57, 255), (199, 100, 0), (72, 0, 118), (255, 179, 240),\n",
    "    (0, 125, 92), (209, 0, 151), (188, 208, 182), (0, 220, 176),\n",
    "]\n",
    "\n",
    "# utility function\n",
    "# this does not care overlap\n",
    "def label2rgb(label):\n",
    "    image_size = label.shape[1:] + (3, )\n",
    "    image = np.zeros(image_size, dtype=np.uint8)\n",
    "\n",
    "    for i, class_label in enumerate(label):\n",
    "        image[class_label == 1] = PALETTE[i]\n",
    "\n",
    "    return image"
   ]
  },
  {
   "cell_type": "code",
   "execution_count": 53,
   "id": "e1f1eb8a",
   "metadata": {
    "id": "e1f1eb8a"
   },
   "outputs": [],
   "source": [
    "tf = A.Resize(IMSIZE,IMSIZE)\n",
    "\n"
   ]
  },
  {
   "cell_type": "code",
   "execution_count": 54,
   "id": "f17abc75",
   "metadata": {
    "id": "f17abc75"
   },
   "outputs": [],
   "source": [
    "train_dataset = XRayDataset(train_filenames, train_labelnames, transforms=tf, is_train=True)\n",
    "valid_dataset = XRayDataset(valid_filenames, valid_labelnames, transforms=tf, is_train=False)"
   ]
  },
  {
   "cell_type": "code",
   "execution_count": 55,
   "id": "c193e92b",
   "metadata": {
    "id": "c193e92b"
   },
   "outputs": [],
   "source": [
    "image, label = train_dataset[0]"
   ]
  },
  {
   "cell_type": "code",
   "execution_count": 56,
   "id": "5dd474b2",
   "metadata": {
    "id": "5dd474b2"
   },
   "outputs": [
    {
     "name": "stdout",
     "output_type": "stream",
     "text": [
      "torch.Size([3, 512, 512]) torch.Size([29, 512, 512])\n"
     ]
    }
   ],
   "source": [
    "print(image.shape, label.shape)"
   ]
  },
  {
   "cell_type": "code",
   "execution_count": 57,
   "id": "bc100cf6",
   "metadata": {
    "id": "bc100cf6"
   },
   "outputs": [
    {
     "data": {
      "text/plain": [
       "640"
      ]
     },
     "execution_count": 57,
     "metadata": {},
     "output_type": "execute_result"
    }
   ],
   "source": [
    "len(train_dataset)"
   ]
  },
  {
   "cell_type": "code",
   "execution_count": 58,
   "id": "f9845fe3",
   "metadata": {
    "id": "f9845fe3",
    "scrolled": false
   },
   "outputs": [],
   "source": [
    "#fig, ax = plt.subplots(1, 2, figsize=(24, 12))\n",
    "#ax[0].imshow(image[0])    # remove channel dimension\n",
    "#ax[1].imshow(label2rgb(label))\n",
    "\n",
    "#plt.show()"
   ]
  },
  {
   "cell_type": "markdown",
   "id": "22480ad8",
   "metadata": {
    "id": "22480ad8"
   },
   "source": [
    "# Setup Dataloader"
   ]
  },
  {
   "cell_type": "code",
   "execution_count": 59,
   "id": "d5b43501",
   "metadata": {
    "id": "d5b43501"
   },
   "outputs": [],
   "source": [
    "train_loader = DataLoader(\n",
    "    dataset=train_dataset,\n",
    "    batch_size=BATCH_SIZE,\n",
    "    shuffle=True,\n",
    "    num_workers=8,\n",
    "    drop_last=True,\n",
    ")\n",
    "\n",
    "valid_loader = DataLoader(\n",
    "    dataset=valid_dataset,\n",
    "    batch_size=1,\n",
    "    shuffle=False,\n",
    "    num_workers=2,\n",
    "    drop_last=False\n",
    ")"
   ]
  },
  {
   "cell_type": "markdown",
   "id": "75925001",
   "metadata": {
    "id": "75925001"
   },
   "source": [
    "# Define Functions for Training"
   ]
  },
  {
   "cell_type": "code",
   "execution_count": 60,
   "id": "687f29a3",
   "metadata": {
    "id": "687f29a3"
   },
   "outputs": [],
   "source": [
    "def dice_coef(y_true, y_pred):\n",
    "    y_true_f = y_true.flatten(2)\n",
    "    y_pred_f = y_pred.flatten(2)\n",
    "    intersection = torch.sum(y_true_f * y_pred_f, -1)\n",
    "\n",
    "    eps = 0.0001\n",
    "    return (2. * intersection + eps) / (torch.sum(y_true_f, -1) + torch.sum(y_pred_f, -1) + eps)"
   ]
  },
  {
   "cell_type": "code",
   "execution_count": 61,
   "id": "19be0316",
   "metadata": {
    "id": "19be0316"
   },
   "outputs": [],
   "source": [
    "def save_model(model, file_name='best_model.pt'):\n",
    "    output_path = os.path.join(SAVED_DIR, file_name)\n",
    "    torch.save(model, output_path)"
   ]
  },
  {
   "cell_type": "code",
   "execution_count": 62,
   "id": "dd22e901",
   "metadata": {
    "id": "dd22e901"
   },
   "outputs": [],
   "source": [
    "def set_seed():\n",
    "    torch.manual_seed(RANDOM_SEED)\n",
    "    torch.cuda.manual_seed(RANDOM_SEED)\n",
    "    torch.cuda.manual_seed_all(RANDOM_SEED) # if use multi-GPU\n",
    "    torch.backends.cudnn.deterministic = True\n",
    "    torch.backends.cudnn.benchmark = False\n",
    "    np.random.seed(RANDOM_SEED)\n",
    "    random.seed(RANDOM_SEED)"
   ]
  },
  {
   "cell_type": "code",
   "execution_count": 63,
   "id": "40c3a306",
   "metadata": {
    "id": "40c3a306"
   },
   "outputs": [],
   "source": [
    "  \n",
    "    \n",
    "def validation(epoch, model, data_loader, criterion, thr=0.5):\n",
    "    print(f'Start validation #{epoch:2d}')\n",
    "    model.cuda()\n",
    "    model.eval()\n",
    "\n",
    "    dices = []\n",
    "    total_loss = 0\n",
    "    cnt = 0\n",
    "\n",
    "    with torch.no_grad():\n",
    "        for step, (images, masks) in tqdm(enumerate(data_loader), total=len(data_loader)):\n",
    "            images, masks = images.cuda(), masks.cuda()\n",
    "\n",
    "            # 모델 예측\n",
    "            outputs = model(images)\n",
    "\n",
    "            # 출력 크기 보정 (필요한 경우만)\n",
    "            if outputs.shape[-2:] != masks.shape[-2:]:\n",
    "                outputs = F.interpolate(outputs, size=masks.shape[-2:], mode=\"bilinear\", align_corners=False)\n",
    "\n",
    "            # 손실 계산\n",
    "            loss = criterion(outputs, masks)\n",
    "            total_loss += loss.item()\n",
    "            cnt += 1\n",
    "\n",
    "            # 출력 이진화 및 Dice 계산 (GPU 상에서 처리)\n",
    "            outputs = (torch.sigmoid(outputs) > thr).float()\n",
    "            dice = dice_coef(outputs, masks)\n",
    "            dices.append(dice.detach())  # GPU에서 유지\n",
    "\n",
    "    # GPU 상에서 Dice 평균 계산\n",
    "    dices = torch.cat(dices, 0)\n",
    "    dices_per_class = dices.mean(dim=0)\n",
    "    \n",
    "    # 로그 출력\n",
    "    dice_str = [\n",
    "        f\"{c:<12}: {d.item():.4f}\"\n",
    "        for c, d in zip(CLASSES, dices_per_class)\n",
    "    ]\n",
    "    dice_str = \"\\n\".join(dice_str)\n",
    "    print(dice_str)\n",
    "\n",
    "    avg_dice = dices_per_class.mean().item()\n",
    "\n",
    "    return avg_dice\n"
   ]
  },
  {
   "cell_type": "code",
   "execution_count": 64,
   "id": "3acde59b",
   "metadata": {
    "id": "3acde59b"
   },
   "outputs": [],
   "source": [
    "import datetime\n",
    "\n",
    "def train(model, data_loader, val_loader, criterion, optimizer,scheduler):\n",
    "    print(f'Start training..')\n",
    "    model.cuda()\n",
    "\n",
    "    n_class = len(CLASSES)\n",
    "    best_dice = 0.\n",
    "\n",
    "    # 손실 가중치 (Deep Supervision)\n",
    "    deep_sup_weights = [0.5, 0.45, 0.4, 0.35, 0.3]  # 각 출력에 대한 가중치\n",
    "\n",
    "    # 스케줄러 추가 (선택적)\n",
    "\n",
    "    for epoch in range(NUM_EPOCHS):\n",
    "        # 에폭 시작 시간 기록\n",
    "        start_time = datetime.datetime.now()\n",
    "        print(f\"Epoch {epoch + 1} started at {start_time.strftime('%Y-%m-%d %H:%M:%S')}\")\n",
    "\n",
    "        model.train()\n",
    "\n",
    "        for step, (images, masks) in enumerate(data_loader):\n",
    "            # GPU 연산을 위해 device 할당\n",
    "            images, masks = images.cuda(), masks.cuda()\n",
    "\n",
    "            # Inference\n",
    "            outputs = model(images)\n",
    "\n",
    "            # Deep Supervision 처리: 여러 출력을 가정\n",
    "            if isinstance(outputs, (tuple, list)):  # 출력이 리스트/튜플 형태인 경우\n",
    "                total_loss = 0.0\n",
    "                for i, output in enumerate(outputs):\n",
    "                    loss = criterion(output, masks)  # 각 출력의 손실 계산\n",
    "                    total_loss += deep_sup_weights[i] * loss  # 가중치를 곱해 합산\n",
    "            else:  # 출력이 단일 텐서인 경우 (예외 처리)\n",
    "                total_loss = criterion(outputs, masks)\n",
    "\n",
    "            # Backpropagation\n",
    "            optimizer.zero_grad()\n",
    "            total_loss.backward()\n",
    "            optimizer.step()\n",
    "\n",
    "            # Step 주기에 따른 손실 출력\n",
    "            if (step + 1) % 25 == 0:\n",
    "                print(\n",
    "                    f'{datetime.datetime.now().strftime(\"%Y-%m-%d %H:%M:%S\")} | '\n",
    "                    f'Epoch [{epoch+1}/{NUM_EPOCHS}], '\n",
    "                    f'Step [{step+1}/{len(data_loader)}], '\n",
    "                    f'Loss: {round(total_loss.item(), 4)}'\n",
    "                )\n",
    "\n",
    "        # Validation 주기에 따른 Loss 출력 및 Best Model 저장\n",
    "        if (epoch + 1) % VAL_EVERY == 0:\n",
    "            dice = validation(epoch + 1, model, val_loader, criterion)\n",
    "\n",
    "            if best_dice < dice:\n",
    "                print(f\"Best performance at epoch: {epoch + 1}, {best_dice:.4f} -> {dice:.4f}\")\n",
    "                print(f\"Save model in {SAVED_DIR}\")\n",
    "                best_dice = dice\n",
    "                save_model(model)\n",
    "\n",
    "        # 스케줄러 업데이트\n",
    "        scheduler.step()\n",
    "        print(f\"Epoch {epoch + 1}: Learning Rate -> {scheduler.get_last_lr()}\")\n",
    "\n",
    "        # 에폭 종료 시간 기록\n",
    "        end_time = datetime.datetime.now()\n",
    "        print(f\"Epoch {epoch + 1} ended at {end_time.strftime('%Y-%m-%d %H:%M:%S')}\")\n",
    "        print(f\"Epoch {epoch + 1} duration: {str(end_time - start_time)}\")\n"
   ]
  },
  {
   "cell_type": "markdown",
   "id": "c10b856b",
   "metadata": {
    "id": "c10b856b"
   },
   "source": [
    "# Define the Model and Train"
   ]
  },
  {
   "cell_type": "markdown",
   "id": "30a2703b",
   "metadata": {
    "id": "30a2703b"
   },
   "source": [
    "![image.png](http://drive.google.com/uc?export=view&id=1CQRLAiLVbNFXs5iHUzYWcYZBt83xfgWr)"
   ]
  },
  {
   "cell_type": "code",
   "execution_count": 65,
   "id": "a99b1a66",
   "metadata": {},
   "outputs": [],
   "source": [
    "import torch.nn as nn\n",
    "from torch.nn import init\n",
    "\n",
    "def weights_init_normal(m):\n",
    "    classname = m.__class__.__name__\n",
    "    #print(classname)\n",
    "    if classname.find('Conv') != -1:\n",
    "        init.normal_(m.weight.data, 0.0, 0.02)\n",
    "    elif classname.find('Linear') != -1:\n",
    "        init.normal_(m.weight.data, 0.0, 0.02)\n",
    "    elif classname.find('BatchNorm') != -1:\n",
    "        init.normal_(m.weight.data, 1.0, 0.02)\n",
    "        init.constant_(m.bias.data, 0.0)\n",
    "\n",
    "\n",
    "def weights_init_xavier(m):\n",
    "    classname = m.__class__.__name__\n",
    "    #print(classname)\n",
    "    if classname.find('Conv') != -1:\n",
    "        init.xavier_normal_(m.weight.data, gain=1)\n",
    "    elif classname.find('Linear') != -1:\n",
    "        init.xavier_normal_(m.weight.data, gain=1)\n",
    "    elif classname.find('BatchNorm') != -1:\n",
    "        init.normal_(m.weight.data, 1.0, 0.02)\n",
    "        init.constant_(m.bias.data, 0.0)\n",
    "\n",
    "\n",
    "def weights_init_kaiming(m):\n",
    "    classname = m.__class__.__name__\n",
    "    #print(classname)\n",
    "    if classname.find('Conv') != -1:\n",
    "        init.kaiming_normal_(m.weight.data, a=0, mode='fan_in')\n",
    "    elif classname.find('Linear') != -1:\n",
    "        init.kaiming_normal_(m.weight.data, a=0, mode='fan_in')\n",
    "    elif classname.find('BatchNorm') != -1:\n",
    "        init.normal_(m.weight.data, 1.0, 0.02)\n",
    "        init.constant_(m.bias.data, 0.0)\n",
    "\n",
    "\n",
    "def weights_init_orthogonal(m):\n",
    "    classname = m.__class__.__name__\n",
    "    #print(classname)\n",
    "    if classname.find('Conv') != -1:\n",
    "        init.orthogonal_(m.weight.data, gain=1)\n",
    "    elif classname.find('Linear') != -1:\n",
    "        init.orthogonal_(m.weight.data, gain=1)\n",
    "    elif classname.find('BatchNorm') != -1:\n",
    "        init.normal_(m.weight.data, 1.0, 0.02)\n",
    "        init.constant_(m.bias.data, 0.0)\n",
    "\n",
    "\n",
    "def init_weights(net, init_type='normal'):\n",
    "    #print('initialization method [%s]' % init_type)\n",
    "    if init_type == 'normal':\n",
    "        net.apply(weights_init_normal)\n",
    "    elif init_type == 'xavier':\n",
    "        net.apply(weights_init_xavier)\n",
    "    elif init_type == 'kaiming':\n",
    "        net.apply(weights_init_kaiming)\n",
    "    elif init_type == 'orthogonal':\n",
    "        net.apply(weights_init_orthogonal)\n",
    "    else:\n",
    "        raise NotImplementedError('initialization method [%s] is not implemented' % init_type)\n"
   ]
  },
  {
   "cell_type": "code",
   "execution_count": 66,
   "id": "83168747",
   "metadata": {},
   "outputs": [],
   "source": [
    "class unetConv2(nn.Module):\n",
    "    def __init__(self, in_size, out_size, is_batchnorm, n=2, ks=3, stride=1, padding=1):\n",
    "        super(unetConv2, self).__init__()\n",
    "        self.n = n\n",
    "        self.ks = ks\n",
    "        self.stride = stride\n",
    "        self.padding = padding\n",
    "        s = stride\n",
    "        p = padding\n",
    "        if is_batchnorm:\n",
    "            for i in range(1, n + 1):\n",
    "                conv = nn.Sequential(nn.Conv2d(in_size, out_size, ks, s, p),\n",
    "                                     nn.BatchNorm2d(out_size),\n",
    "                                     nn.ReLU(inplace=True), )\n",
    "                setattr(self, 'conv%d' % i, conv)\n",
    "                in_size = out_size\n",
    "\n",
    "        else:\n",
    "            for i in range(1, n + 1):\n",
    "                conv = nn.Sequential(nn.Conv2d(in_size, out_size, ks, s, p),\n",
    "                                     nn.ReLU(inplace=True), )\n",
    "                setattr(self, 'conv%d' % i, conv)\n",
    "                in_size = out_size\n",
    "\n",
    "        # initialise the blocks\n",
    "        for m in self.children():\n",
    "            init_weights(m, init_type='kaiming')\n",
    "\n",
    "    def forward(self, inputs):\n",
    "        x = inputs\n",
    "        for i in range(1, self.n + 1):\n",
    "            conv = getattr(self, 'conv%d' % i)\n",
    "            x = conv(x)\n",
    "\n",
    "        return x"
   ]
  },
  {
   "cell_type": "code",
   "execution_count": 67,
   "id": "d28d92ab",
   "metadata": {},
   "outputs": [],
   "source": [
    "import torch\n",
    "import torch.nn as nn\n",
    "import torchvision.models as models\n",
    "\n",
    "class ResNetEncoder(nn.Module):\n",
    "    def __init__(self, in_channels=3, pretrained=True):\n",
    "        super(ResNetEncoder, self).__init__()\n",
    "        resnet = models.resnet101(weights=models.ResNet101_Weights.DEFAULT if pretrained else None)\n",
    "        \n",
    "        # 입력 채널 변경\n",
    "        if in_channels != 3:\n",
    "            self.input_conv = nn.Conv2d(in_channels, 64, kernel_size=7, stride=2, padding=3, bias=False)\n",
    "            self.input_conv.weight.data = resnet.conv1.weight.data.mean(dim=1, keepdim=True).repeat(1, in_channels, 1, 1)\n",
    "        else:\n",
    "            self.input_conv = resnet.conv1\n",
    "\n",
    "        self.bn1 = resnet.bn1\n",
    "        self.relu = resnet.relu\n",
    "        self.maxpool = resnet.maxpool\n",
    "\n",
    "        self.layer1 = resnet.layer1  # ResNet block 1\n",
    "        self.layer2 = resnet.layer2  # ResNet block 2\n",
    "        self.layer3 = resnet.layer3  # ResNet block 3\n",
    "        self.layer4 = resnet.layer4  # ResNet block 4\n",
    "\n",
    "    def forward(self, x):\n",
    "        h1 = self.relu(self.bn1(self.input_conv(x)))  # h1: 64 channels\n",
    "        h2 = self.layer1(self.maxpool(h1))           # h2: 256 channels\n",
    "        h3 = self.layer2(h2)                         # h3: 512 channels\n",
    "        h4 = self.layer3(h3)                         # h4: 1024 channels\n",
    "        h5 = self.layer4(h4)                         # h5: 2048 channels\n",
    "        return h1, h2, h3, h4, h5\n"
   ]
  },
  {
   "cell_type": "code",
   "execution_count": 68,
   "id": "bebddf7d",
   "metadata": {
    "id": "bebddf7d"
   },
   "outputs": [],
   "source": [
    "class UNet_3Plus_DeepSup(nn.Module):\n",
    "    def __init__(self, in_channels=3, n_classes=1, feature_scale=4, is_deconv=True, is_batchnorm=True):\n",
    "        super(UNet_3Plus_DeepSup, self).__init__()\n",
    "        self.is_deconv = is_deconv\n",
    "        self.in_channels = in_channels\n",
    "        self.is_batchnorm = is_batchnorm\n",
    "        self.feature_scale = feature_scale\n",
    "\n",
    "        filters = [64, 256, 512, 1024, 2048]\n",
    "\n",
    "        ## -------------Encoder--------------\n",
    "        self.encoder = ResNetEncoder(in_channels=in_channels)\n",
    "\n",
    "        ## -------------Decoder--------------\n",
    "        self.CatChannels = filters[0]\n",
    "        self.CatBlocks = 5\n",
    "        self.UpChannels = self.CatChannels * self.CatBlocks\n",
    "\n",
    "        '''stage 4d'''\n",
    "        # h1->320*320, hd4->40*40, Pooling 8 times\n",
    "        self.h1_PT_hd4 = nn.MaxPool2d(8, 8, ceil_mode=True)\n",
    "        self.h1_PT_hd4_conv = nn.Conv2d(filters[0], self.CatChannels, 3, padding=1)\n",
    "        self.h1_PT_hd4_bn = nn.BatchNorm2d(self.CatChannels)\n",
    "        self.h1_PT_hd4_relu = nn.ReLU(inplace=True)\n",
    "\n",
    "        # h2->160*160, hd4->40*40, Pooling 4 times\n",
    "        self.h2_PT_hd4 = nn.MaxPool2d(4, 4, ceil_mode=True)\n",
    "        self.h2_PT_hd4_conv = nn.Conv2d(filters[1], self.CatChannels, 3, padding=1)\n",
    "        self.h2_PT_hd4_bn = nn.BatchNorm2d(self.CatChannels)\n",
    "        self.h2_PT_hd4_relu = nn.ReLU(inplace=True)\n",
    "\n",
    "        # h3->80*80, hd4->40*40, Pooling 2 times\n",
    "        self.h3_PT_hd4 = nn.MaxPool2d(2, 2, ceil_mode=True)\n",
    "        self.h3_PT_hd4_conv = nn.Conv2d(filters[2], self.CatChannels, 3, padding=1)\n",
    "        self.h3_PT_hd4_bn = nn.BatchNorm2d(self.CatChannels)\n",
    "        self.h3_PT_hd4_relu = nn.ReLU(inplace=True)\n",
    "\n",
    "        # h4->40*40, hd4->40*40, Concatenation\n",
    "        self.h4_Cat_hd4_conv = nn.Conv2d(filters[3], self.CatChannels, 3, padding=1)\n",
    "        self.h4_Cat_hd4_bn = nn.BatchNorm2d(self.CatChannels)\n",
    "        self.h4_Cat_hd4_relu = nn.ReLU(inplace=True)\n",
    "\n",
    "        # hd5->20*20, hd4->40*40, Upsample 2 times\n",
    "        self.hd5_UT_hd4 = nn.Upsample(scale_factor=2, mode='bilinear')  # 14*14\n",
    "        self.hd5_UT_hd4_conv = nn.Conv2d(filters[4], self.CatChannels, 3, padding=1)\n",
    "        self.hd5_UT_hd4_bn = nn.BatchNorm2d(self.CatChannels)\n",
    "        self.hd5_UT_hd4_relu = nn.ReLU(inplace=True)\n",
    "\n",
    "        # fusion(h1_PT_hd4, h2_PT_hd4, h3_PT_hd4, h4_Cat_hd4, hd5_UT_hd4)\n",
    "        self.conv4d_1 = nn.Conv2d(self.UpChannels, self.UpChannels, 3, padding=1)  # 16\n",
    "        self.bn4d_1 = nn.BatchNorm2d(self.UpChannels)\n",
    "        self.relu4d_1 = nn.ReLU(inplace=True)\n",
    "\n",
    "        '''stage 3d'''\n",
    "        # h1->320*320, hd3->80*80, Pooling 4 times\n",
    "        self.h1_PT_hd3 = nn.MaxPool2d(4, 4, ceil_mode=True)\n",
    "        self.h1_PT_hd3_conv = nn.Conv2d(filters[0], self.CatChannels, 3, padding=1)\n",
    "        self.h1_PT_hd3_bn = nn.BatchNorm2d(self.CatChannels)\n",
    "        self.h1_PT_hd3_relu = nn.ReLU(inplace=True)\n",
    "\n",
    "        # h2->160*160, hd3->80*80, Pooling 2 times\n",
    "        self.h2_PT_hd3 = nn.MaxPool2d(2, 2, ceil_mode=True)\n",
    "        self.h2_PT_hd3_conv = nn.Conv2d(filters[1], self.CatChannels, 3, padding=1)\n",
    "        self.h2_PT_hd3_bn = nn.BatchNorm2d(self.CatChannels)\n",
    "        self.h2_PT_hd3_relu = nn.ReLU(inplace=True)\n",
    "\n",
    "        # h3->80*80, hd3->80*80, Concatenation\n",
    "        self.h3_Cat_hd3_conv = nn.Conv2d(filters[2], self.CatChannels, 3, padding=1)\n",
    "        self.h3_Cat_hd3_bn = nn.BatchNorm2d(self.CatChannels)\n",
    "        self.h3_Cat_hd3_relu = nn.ReLU(inplace=True)\n",
    "\n",
    "        # hd4->40*40, hd4->80*80, Upsample 2 times\n",
    "        self.hd4_UT_hd3 = nn.Upsample(scale_factor=2, mode='bilinear')  # 14*14\n",
    "        self.hd4_UT_hd3_conv = nn.Conv2d(self.UpChannels, self.CatChannels, 3, padding=1)\n",
    "        self.hd4_UT_hd3_bn = nn.BatchNorm2d(self.CatChannels)\n",
    "        self.hd4_UT_hd3_relu = nn.ReLU(inplace=True)\n",
    "\n",
    "        # hd5->20*20, hd4->80*80, Upsample 4 times\n",
    "        self.hd5_UT_hd3 = nn.Upsample(scale_factor=4, mode='bilinear')  # 14*14\n",
    "        self.hd5_UT_hd3_conv = nn.Conv2d(filters[4], self.CatChannels, 3, padding=1)\n",
    "        self.hd5_UT_hd3_bn = nn.BatchNorm2d(self.CatChannels)\n",
    "        self.hd5_UT_hd3_relu = nn.ReLU(inplace=True)\n",
    "\n",
    "        # fusion(h1_PT_hd3, h2_PT_hd3, h3_Cat_hd3, hd4_UT_hd3, hd5_UT_hd3)\n",
    "        self.conv3d_1 = nn.Conv2d(self.UpChannels, self.UpChannels, 3, padding=1)  # 16\n",
    "        self.bn3d_1 = nn.BatchNorm2d(self.UpChannels)\n",
    "        self.relu3d_1 = nn.ReLU(inplace=True)\n",
    "\n",
    "        '''stage 2d '''\n",
    "        # h1->320*320, hd2->160*160, Pooling 2 times\n",
    "        self.h1_PT_hd2 = nn.MaxPool2d(2, 2, ceil_mode=True)\n",
    "        self.h1_PT_hd2_conv = nn.Conv2d(filters[0], self.CatChannels, 3, padding=1)\n",
    "        self.h1_PT_hd2_bn = nn.BatchNorm2d(self.CatChannels)\n",
    "        self.h1_PT_hd2_relu = nn.ReLU(inplace=True)\n",
    "\n",
    "        # h2->160*160, hd2->160*160, Concatenation\n",
    "        self.h2_Cat_hd2_conv = nn.Conv2d(filters[1], self.CatChannels, 3, padding=1)\n",
    "        self.h2_Cat_hd2_bn = nn.BatchNorm2d(self.CatChannels)\n",
    "        self.h2_Cat_hd2_relu = nn.ReLU(inplace=True)\n",
    "\n",
    "        # hd3->80*80, hd2->160*160, Upsample 2 times\n",
    "        self.hd3_UT_hd2 = nn.Upsample(scale_factor=2, mode='bilinear')  # 14*14\n",
    "        self.hd3_UT_hd2_conv = nn.Conv2d(self.UpChannels, self.CatChannels, 3, padding=1)\n",
    "        self.hd3_UT_hd2_bn = nn.BatchNorm2d(self.CatChannels)\n",
    "        self.hd3_UT_hd2_relu = nn.ReLU(inplace=True)\n",
    "\n",
    "        # hd4->40*40, hd2->160*160, Upsample 4 times\n",
    "        self.hd4_UT_hd2 = nn.Upsample(scale_factor=4, mode='bilinear')  # 14*14\n",
    "        self.hd4_UT_hd2_conv = nn.Conv2d(self.UpChannels, self.CatChannels, 3, padding=1)\n",
    "        self.hd4_UT_hd2_bn = nn.BatchNorm2d(self.CatChannels)\n",
    "        self.hd4_UT_hd2_relu = nn.ReLU(inplace=True)\n",
    "\n",
    "        # hd5->20*20, hd2->160*160, Upsample 8 times\n",
    "        self.hd5_UT_hd2 = nn.Upsample(scale_factor=8, mode='bilinear')  # 14*14\n",
    "        self.hd5_UT_hd2_conv = nn.Conv2d(filters[4], self.CatChannels, 3, padding=1)\n",
    "        self.hd5_UT_hd2_bn = nn.BatchNorm2d(self.CatChannels)\n",
    "        self.hd5_UT_hd2_relu = nn.ReLU(inplace=True)\n",
    "\n",
    "        # fusion(h1_PT_hd2, h2_Cat_hd2, hd3_UT_hd2, hd4_UT_hd2, hd5_UT_hd2)\n",
    "        self.conv2d_1 = nn.Conv2d(self.UpChannels, self.UpChannels, 3, padding=1)  # 16\n",
    "        self.bn2d_1 = nn.BatchNorm2d(self.UpChannels)\n",
    "        self.relu2d_1 = nn.ReLU(inplace=True)\n",
    "\n",
    "        '''stage 1d'''\n",
    "        # h1->320*320, hd1->320*320, Concatenation\n",
    "        self.h1_Cat_hd1_conv = nn.Conv2d(filters[0], self.CatChannels, 3, padding=1)\n",
    "        self.h1_Cat_hd1_bn = nn.BatchNorm2d(self.CatChannels)\n",
    "        self.h1_Cat_hd1_relu = nn.ReLU(inplace=True)\n",
    "\n",
    "        # hd2->160*160, hd1->320*320, Upsample 2 times\n",
    "        self.hd2_UT_hd1 = nn.Upsample(scale_factor=2, mode='bilinear')  # 14*14\n",
    "        self.hd2_UT_hd1_conv = nn.Conv2d(self.UpChannels, self.CatChannels, 3, padding=1)\n",
    "        self.hd2_UT_hd1_bn = nn.BatchNorm2d(self.CatChannels)\n",
    "        self.hd2_UT_hd1_relu = nn.ReLU(inplace=True)\n",
    "\n",
    "        # hd3->80*80, hd1->320*320, Upsample 4 times\n",
    "        self.hd3_UT_hd1 = nn.Upsample(scale_factor=4, mode='bilinear')  # 14*14\n",
    "        self.hd3_UT_hd1_conv = nn.Conv2d(self.UpChannels, self.CatChannels, 3, padding=1)\n",
    "        self.hd3_UT_hd1_bn = nn.BatchNorm2d(self.CatChannels)\n",
    "        self.hd3_UT_hd1_relu = nn.ReLU(inplace=True)\n",
    "\n",
    "        # hd4->40*40, hd1->320*320, Upsample 8 times\n",
    "        self.hd4_UT_hd1 = nn.Upsample(scale_factor=8, mode='bilinear')  # 14*14\n",
    "        self.hd4_UT_hd1_conv = nn.Conv2d(self.UpChannels, self.CatChannels, 3, padding=1)\n",
    "        self.hd4_UT_hd1_bn = nn.BatchNorm2d(self.CatChannels)\n",
    "        self.hd4_UT_hd1_relu = nn.ReLU(inplace=True)\n",
    "\n",
    "        # hd5->20*20, hd1->320*320, Upsample 16 times\n",
    "        self.hd5_UT_hd1 = nn.Upsample(scale_factor=16, mode='bilinear')  # 14*14\n",
    "        self.hd5_UT_hd1_conv = nn.Conv2d(filters[4], self.CatChannels, 3, padding=1)\n",
    "        self.hd5_UT_hd1_bn = nn.BatchNorm2d(self.CatChannels)\n",
    "        self.hd5_UT_hd1_relu = nn.ReLU(inplace=True)\n",
    "\n",
    "        # fusion(h1_Cat_hd1, hd2_UT_hd1, hd3_UT_hd1, hd4_UT_hd1, hd5_UT_hd1)\n",
    "        self.conv1d_1 = nn.Conv2d(self.UpChannels, self.UpChannels, 3, padding=1)  # 16\n",
    "        self.bn1d_1 = nn.BatchNorm2d(self.UpChannels)\n",
    "        self.relu1d_1 = nn.ReLU(inplace=True)\n",
    "\n",
    "        # -------------Bilinear Upsampling--------------\n",
    "        self.upscore5 = nn.Upsample(size=(IMSIZE, IMSIZE), mode='bilinear', align_corners=True)  # 512x512로 고정\n",
    "        self.upscore4 = nn.Upsample(size=(IMSIZE, IMSIZE), mode='bilinear', align_corners=True)  # 512x512로 고정\n",
    "        self.upscore3 = nn.Upsample(size=(IMSIZE, IMSIZE), mode='bilinear', align_corners=True)  # 512x512로 고정\n",
    "        self.upscore2 = nn.Upsample(size=(IMSIZE, IMSIZE), mode='bilinear', align_corners=True)  # 512x512로 고정\n",
    "        self.upscore1 = nn.Upsample(size=(IMSIZE, IMSIZE), mode='bilinear', align_corners=True)  # 512x512로 고정\n",
    "\n",
    "        # DeepSup\n",
    "        self.outconv1 = nn.Conv2d(self.UpChannels, n_classes, 3, padding=1)\n",
    "        self.outconv2 = nn.Conv2d(self.UpChannels, n_classes, 3, padding=1)\n",
    "        self.outconv3 = nn.Conv2d(self.UpChannels, n_classes, 3, padding=1)\n",
    "        self.outconv4 = nn.Conv2d(self.UpChannels, n_classes, 3, padding=1)\n",
    "        self.outconv5 = nn.Conv2d(filters[4], n_classes, 3, padding=1)\n",
    "\n",
    "        # initialise weights\n",
    "        for m in self.modules():\n",
    "            if isinstance(m, nn.Conv2d):\n",
    "                init_weights(m, init_type='kaiming')\n",
    "            elif isinstance(m, nn.BatchNorm2d):\n",
    "                init_weights(m, init_type='kaiming')\n",
    "\n",
    "    def forward(self, inputs):\n",
    "        ## -------------Encoder-------------\n",
    "        h1, h2, h3, h4, hd5 = self.encoder(inputs)  # ResNet이 반환한 feature maps\n",
    "\n",
    "\n",
    "        ## -------------Decoder-------------\n",
    "        h1_PT_hd4 = self.h1_PT_hd4_relu(self.h1_PT_hd4_bn(self.h1_PT_hd4_conv(self.h1_PT_hd4(h1))))\n",
    "        h2_PT_hd4 = self.h2_PT_hd4_relu(self.h2_PT_hd4_bn(self.h2_PT_hd4_conv(self.h2_PT_hd4(h2))))\n",
    "        h3_PT_hd4 = self.h3_PT_hd4_relu(self.h3_PT_hd4_bn(self.h3_PT_hd4_conv(self.h3_PT_hd4(h3))))\n",
    "        h4_Cat_hd4 = self.h4_Cat_hd4_relu(self.h4_Cat_hd4_bn(self.h4_Cat_hd4_conv(h4)))\n",
    "        hd5_UT_hd4 = self.hd5_UT_hd4_relu(self.hd5_UT_hd4_bn(self.hd5_UT_hd4_conv(self.hd5_UT_hd4(hd5))))\n",
    "        hd4 = self.relu4d_1(self.bn4d_1(self.conv4d_1(\n",
    "            torch.cat((h1_PT_hd4, h2_PT_hd4, h3_PT_hd4, h4_Cat_hd4, hd5_UT_hd4), 1)))) # hd4->40*40*UpChannels\n",
    "\n",
    "        h1_PT_hd3 = self.h1_PT_hd3_relu(self.h1_PT_hd3_bn(self.h1_PT_hd3_conv(self.h1_PT_hd3(h1))))\n",
    "        h2_PT_hd3 = self.h2_PT_hd3_relu(self.h2_PT_hd3_bn(self.h2_PT_hd3_conv(self.h2_PT_hd3(h2))))\n",
    "        h3_Cat_hd3 = self.h3_Cat_hd3_relu(self.h3_Cat_hd3_bn(self.h3_Cat_hd3_conv(h3)))\n",
    "        hd4_UT_hd3 = self.hd4_UT_hd3_relu(self.hd4_UT_hd3_bn(self.hd4_UT_hd3_conv(self.hd4_UT_hd3(hd4))))\n",
    "        hd5_UT_hd3 = self.hd5_UT_hd3_relu(self.hd5_UT_hd3_bn(self.hd5_UT_hd3_conv(self.hd5_UT_hd3(hd5))))\n",
    "        hd3 = self.relu3d_1(self.bn3d_1(self.conv3d_1(\n",
    "            torch.cat((h1_PT_hd3, h2_PT_hd3, h3_Cat_hd3, hd4_UT_hd3, hd5_UT_hd3), 1)))) # hd3->80*80*UpChannels\n",
    "\n",
    "        h1_PT_hd2 = self.h1_PT_hd2_relu(self.h1_PT_hd2_bn(self.h1_PT_hd2_conv(self.h1_PT_hd2(h1))))\n",
    "        h2_Cat_hd2 = self.h2_Cat_hd2_relu(self.h2_Cat_hd2_bn(self.h2_Cat_hd2_conv(h2)))\n",
    "        hd3_UT_hd2 = self.hd3_UT_hd2_relu(self.hd3_UT_hd2_bn(self.hd3_UT_hd2_conv(self.hd3_UT_hd2(hd3))))\n",
    "        hd4_UT_hd2 = self.hd4_UT_hd2_relu(self.hd4_UT_hd2_bn(self.hd4_UT_hd2_conv(self.hd4_UT_hd2(hd4))))\n",
    "        hd5_UT_hd2 = self.hd5_UT_hd2_relu(self.hd5_UT_hd2_bn(self.hd5_UT_hd2_conv(self.hd5_UT_hd2(hd5))))\n",
    "        hd2 = self.relu2d_1(self.bn2d_1(self.conv2d_1(\n",
    "            torch.cat((h1_PT_hd2, h2_Cat_hd2, hd3_UT_hd2, hd4_UT_hd2, hd5_UT_hd2), 1)))) # hd2->160*160*UpChannels\n",
    "\n",
    "        h1_Cat_hd1 = self.h1_Cat_hd1_relu(self.h1_Cat_hd1_bn(self.h1_Cat_hd1_conv(h1)))\n",
    "        hd2_UT_hd1 = self.hd2_UT_hd1_relu(self.hd2_UT_hd1_bn(self.hd2_UT_hd1_conv(self.hd2_UT_hd1(hd2))))\n",
    "        hd3_UT_hd1 = self.hd3_UT_hd1_relu(self.hd3_UT_hd1_bn(self.hd3_UT_hd1_conv(self.hd3_UT_hd1(hd3))))\n",
    "        hd4_UT_hd1 = self.hd4_UT_hd1_relu(self.hd4_UT_hd1_bn(self.hd4_UT_hd1_conv(self.hd4_UT_hd1(hd4))))\n",
    "        hd5_UT_hd1 = self.hd5_UT_hd1_relu(self.hd5_UT_hd1_bn(self.hd5_UT_hd1_conv(self.hd5_UT_hd1(hd5))))\n",
    "        hd1 = self.relu1d_1(self.bn1d_1(self.conv1d_1(\n",
    "            torch.cat((h1_Cat_hd1, hd2_UT_hd1, hd3_UT_hd1, hd4_UT_hd1, hd5_UT_hd1), 1)))) # hd1->320*320*UpChannels\n",
    "\n",
    "        d5 = self.outconv5(hd5)\n",
    "        d5 = self.upscore5(d5) # 16->256\n",
    "\n",
    "        d4 = self.outconv4(hd4)\n",
    "        d4 = self.upscore4(d4) # 32->256\n",
    "\n",
    "        d3 = self.outconv3(hd3)\n",
    "        d3 = self.upscore3(d3) # 64->256\n",
    "\n",
    "        d2 = self.outconv2(hd2)\n",
    "        d2 = self.upscore2(d2) # 128->256\n",
    "\n",
    "        d1 = self.outconv1(hd1) # 256\n",
    "        d1 = self.upscore1(d1)\n",
    "        \n",
    "\n",
    "        if self.training:\n",
    "            return d1, d2, d3, d4, d5\n",
    "        else:\n",
    "            return d1"
   ]
  },
  {
   "cell_type": "code",
   "execution_count": 69,
   "id": "73b106ab",
   "metadata": {
    "id": "73b106ab"
   },
   "outputs": [],
   "source": [
    "model = UNet_3Plus_DeepSup(n_classes=len(CLASSES))\n",
    "\n"
   ]
  },
  {
   "cell_type": "code",
   "execution_count": 70,
   "id": "801e9a3a",
   "metadata": {
    "id": "801e9a3a"
   },
   "outputs": [],
   "source": [
    "LR = 0.001\n",
    "MILESTONES=[6,16,23,27]\n",
    "GAMMA=0.3\n",
    "\n",
    "\n",
    "# Loss function 정의\n",
    "criterion = nn.BCEWithLogitsLoss()\n",
    "\n",
    "# Optimizer 정의\n",
    "optimizer = optim.Adam(params=model.parameters(), lr=LR, weight_decay=1e-6)\n",
    "scheduler = torch.optim.lr_scheduler.MultiStepLR(optimizer, milestones=MILESTONES, gamma=GAMMA)\n",
    "\n",
    "\n"
   ]
  },
  {
   "cell_type": "code",
   "execution_count": 71,
   "id": "a11d1b92",
   "metadata": {
    "id": "a11d1b92"
   },
   "outputs": [],
   "source": [
    "set_seed()"
   ]
  },
  {
   "cell_type": "code",
   "execution_count": null,
   "id": "7564c751",
   "metadata": {
    "id": "7564c751",
    "scrolled": true
   },
   "outputs": [
    {
     "name": "stdout",
     "output_type": "stream",
     "text": [
      "Start training..\n",
      "Epoch 1 started at 2024-11-19 05:44:13\n",
      "2024-11-19 05:44:26 | Epoch [1/30], Step [25/320], Loss: 0.03\n",
      "2024-11-19 05:44:36 | Epoch [1/30], Step [50/320], Loss: 0.0251\n",
      "2024-11-19 05:44:46 | Epoch [1/30], Step [75/320], Loss: 0.0247\n",
      "2024-11-19 05:44:56 | Epoch [1/30], Step [100/320], Loss: 0.019\n",
      "2024-11-19 05:45:06 | Epoch [1/30], Step [125/320], Loss: 0.0142\n",
      "2024-11-19 05:45:15 | Epoch [1/30], Step [150/320], Loss: 0.0118\n",
      "2024-11-19 05:45:25 | Epoch [1/30], Step [175/320], Loss: 0.0089\n",
      "2024-11-19 05:45:35 | Epoch [1/30], Step [200/320], Loss: 0.0111\n",
      "2024-11-19 05:45:45 | Epoch [1/30], Step [225/320], Loss: 0.0116\n",
      "2024-11-19 05:45:55 | Epoch [1/30], Step [250/320], Loss: 0.0066\n",
      "2024-11-19 05:46:05 | Epoch [1/30], Step [275/320], Loss: 0.0099\n"
     ]
    }
   ],
   "source": [
    "train(model, train_loader, valid_loader, criterion, optimizer,scheduler)"
   ]
  },
  {
   "cell_type": "markdown",
   "id": "85f36ce9",
   "metadata": {
    "id": "85f36ce9"
   },
   "source": [
    "# Inference"
   ]
  },
  {
   "cell_type": "code",
   "execution_count": null,
   "id": "b9951f61",
   "metadata": {
    "id": "b9951f61"
   },
   "outputs": [],
   "source": [
    "model = torch.load(os.path.join(SAVED_DIR, \"best_model.pt\"))"
   ]
  },
  {
   "cell_type": "code",
   "execution_count": null,
   "id": "da6dd353",
   "metadata": {
    "id": "da6dd353"
   },
   "outputs": [],
   "source": [
    "# 데이터 경로를 입력하세요\n",
    "\n",
    "IMAGE_ROOT = \"\""
   ]
  },
  {
   "cell_type": "code",
   "execution_count": null,
   "id": "463d5c19",
   "metadata": {
    "id": "463d5c19"
   },
   "outputs": [],
   "source": [
    "pngs = {\n",
    "    os.path.relpath(os.path.join(root, fname), start=IMAGE_ROOT)\n",
    "    for root, _dirs, files in os.walk(IMAGE_ROOT)\n",
    "    for fname in files\n",
    "    if os.path.splitext(fname)[1].lower() == \".png\"\n",
    "}"
   ]
  },
  {
   "cell_type": "code",
   "execution_count": null,
   "id": "96ef6e42",
   "metadata": {
    "id": "96ef6e42"
   },
   "outputs": [],
   "source": [
    "def encode_mask_to_rle(mask):\n",
    "    '''\n",
    "    mask: numpy array binary mask\n",
    "    1 - mask\n",
    "    0 - background\n",
    "    Returns encoded run length\n",
    "    '''\n",
    "    pixels = mask.flatten()\n",
    "    pixels = np.concatenate([[0], pixels, [0]])\n",
    "    runs = np.where(pixels[1:] != pixels[:-1])[0] + 1\n",
    "    runs[1::2] -= runs[::2]\n",
    "    return ' '.join(str(x) for x in runs)"
   ]
  },
  {
   "cell_type": "code",
   "execution_count": null,
   "id": "709ba9da",
   "metadata": {
    "id": "709ba9da"
   },
   "outputs": [],
   "source": [
    "def decode_rle_to_mask(rle, height, width):\n",
    "    s = rle.split()\n",
    "    starts, lengths = [np.asarray(x, dtype=int) for x in (s[0:][::2], s[1:][::2])]\n",
    "    starts -= 1\n",
    "    ends = starts + lengths\n",
    "    img = np.zeros(height * width, dtype=np.uint8)\n",
    "\n",
    "    for lo, hi in zip(starts, ends):\n",
    "        img[lo:hi] = 1\n",
    "\n",
    "    return img.reshape(height, width)"
   ]
  },
  {
   "cell_type": "code",
   "execution_count": null,
   "id": "8e98506f",
   "metadata": {
    "id": "8e98506f"
   },
   "outputs": [],
   "source": [
    "class XRayInferenceDataset(Dataset):\n",
    "    def __init__(self, transforms=None):\n",
    "        _filenames = pngs\n",
    "        _filenames = np.array(sorted(_filenames))\n",
    "\n",
    "        self.filenames = _filenames\n",
    "        self.transforms = transforms\n",
    "\n",
    "    def __len__(self):\n",
    "        return len(self.filenames)\n",
    "\n",
    "    def __getitem__(self, item):\n",
    "        image_name = self.filenames[item]\n",
    "        image_path = os.path.join(IMAGE_ROOT, image_name)\n",
    "\n",
    "        image = cv2.imread(image_path)\n",
    "        image = image / 255.\n",
    "\n",
    "        if self.transforms is not None:\n",
    "            inputs = {\"image\": image}\n",
    "            result = self.transforms(**inputs)\n",
    "            image = result[\"image\"]\n",
    "\n",
    "        # to tenser will be done later\n",
    "        image = image.transpose(2, 0, 1)    # make channel first\n",
    "\n",
    "        image = torch.from_numpy(image).float()\n",
    "\n",
    "        return image, image_name"
   ]
  },
  {
   "cell_type": "code",
   "execution_count": null,
   "id": "112a73a3",
   "metadata": {
    "id": "112a73a3"
   },
   "outputs": [],
   "source": [
    "def test(model, data_loader, thr=0.5):\n",
    "    model = model.cuda()\n",
    "    model.eval()\n",
    "\n",
    "    rles = []\n",
    "    filename_and_class = []\n",
    "    with torch.no_grad():\n",
    "        n_class = len(CLASSES)\n",
    "\n",
    "        for step, (images, image_names) in tqdm(enumerate(data_loader), total=len(data_loader)):\n",
    "            images = images.cuda()\n",
    "            outputs = model(images)\n",
    "\n",
    "            # restore original size\n",
    "            outputs = F.interpolate(outputs, size=(2048, 2048), mode=\"bilinear\")\n",
    "            outputs = torch.sigmoid(outputs)\n",
    "            outputs = (outputs > thr).detach().cpu().numpy()\n",
    "\n",
    "            for output, image_name in zip(outputs, image_names):\n",
    "                for c, segm in enumerate(output):\n",
    "                    rle = encode_mask_to_rle(segm)\n",
    "                    rles.append(rle)\n",
    "                    filename_and_class.append(f\"{IND2CLASS[c]}_{image_name}\")\n",
    "\n",
    "    return rles, filename_and_class"
   ]
  },
  {
   "cell_type": "code",
   "execution_count": null,
   "id": "8011f0cd",
   "metadata": {
    "id": "8011f0cd"
   },
   "outputs": [],
   "source": [
    "tf = A.Resize(512, 512)"
   ]
  },
  {
   "cell_type": "code",
   "execution_count": null,
   "id": "bcb091af",
   "metadata": {
    "id": "bcb091af"
   },
   "outputs": [],
   "source": [
    "test_dataset = XRayInferenceDataset(transforms=tf)"
   ]
  },
  {
   "cell_type": "code",
   "execution_count": null,
   "id": "62aff8c2",
   "metadata": {
    "id": "62aff8c2"
   },
   "outputs": [],
   "source": [
    "test_loader = DataLoader(\n",
    "    dataset=test_dataset,\n",
    "    batch_size=2,\n",
    "    shuffle=False,\n",
    "    num_workers=2,\n",
    "    drop_last=False\n",
    ")"
   ]
  },
  {
   "cell_type": "code",
   "execution_count": null,
   "id": "fa7c963b",
   "metadata": {
    "id": "fa7c963b"
   },
   "outputs": [],
   "source": [
    "rles, filename_and_class = test(model, test_loader)"
   ]
  },
  {
   "cell_type": "markdown",
   "id": "0c838bf8",
   "metadata": {
    "id": "0c838bf8"
   },
   "source": [
    "# Result Visualization"
   ]
  },
  {
   "cell_type": "code",
   "execution_count": null,
   "id": "a091930c",
   "metadata": {
    "id": "a091930c"
   },
   "outputs": [],
   "source": [
    "filename_and_class[0]"
   ]
  },
  {
   "cell_type": "code",
   "execution_count": null,
   "id": "d82cd165",
   "metadata": {
    "id": "d82cd165"
   },
   "outputs": [],
   "source": [
    "image = cv2.imread(os.path.join(IMAGE_ROOT, filename_and_class[0].split(\"_\")[1]))"
   ]
  },
  {
   "cell_type": "code",
   "execution_count": null,
   "id": "96cd0155",
   "metadata": {
    "id": "96cd0155"
   },
   "outputs": [],
   "source": [
    "preds = []\n",
    "for rle in rles[:len(CLASSES)]:\n",
    "    pred = decode_rle_to_mask(rle, height=2048, width=2048)\n",
    "    preds.append(pred)\n",
    "\n",
    "preds = np.stack(preds, 0)"
   ]
  },
  {
   "cell_type": "code",
   "execution_count": null,
   "id": "87680f55",
   "metadata": {
    "id": "87680f55"
   },
   "outputs": [],
   "source": [
    "fig, ax = plt.subplots(1, 2, figsize=(24, 12))\n",
    "ax[0].imshow(image)    # remove channel dimension\n",
    "ax[1].imshow(label2rgb(preds))\n",
    "\n",
    "plt.show()"
   ]
  },
  {
   "cell_type": "markdown",
   "id": "0c785028",
   "metadata": {
    "id": "0c785028"
   },
   "source": [
    "# To CSV"
   ]
  },
  {
   "cell_type": "code",
   "execution_count": null,
   "id": "de48485d",
   "metadata": {
    "id": "de48485d"
   },
   "outputs": [],
   "source": [
    "classes, filename = zip(*[x.split(\"_\") for x in filename_and_class])"
   ]
  },
  {
   "cell_type": "code",
   "execution_count": null,
   "id": "0f30f7d9",
   "metadata": {
    "id": "0f30f7d9"
   },
   "outputs": [],
   "source": [
    "image_name = [os.path.basename(f) for f in filename]"
   ]
  },
  {
   "cell_type": "code",
   "execution_count": null,
   "id": "0664269e",
   "metadata": {
    "id": "0664269e"
   },
   "outputs": [],
   "source": [
    "df = pd.DataFrame({\n",
    "    \"image_name\": image_name,\n",
    "    \"class\": classes,\n",
    "    \"rle\": rles,\n",
    "})"
   ]
  },
  {
   "cell_type": "code",
   "execution_count": null,
   "id": "aa96d8f5",
   "metadata": {
    "id": "aa96d8f5"
   },
   "outputs": [],
   "source": [
    "df.head(30)"
   ]
  },
  {
   "cell_type": "code",
   "execution_count": null,
   "id": "4f54b595",
   "metadata": {
    "id": "4f54b595"
   },
   "outputs": [],
   "source": [
    "df.to_csv(\"submission.csv\", index=False)"
   ]
  },
  {
   "cell_type": "code",
   "execution_count": null,
   "id": "cfb275db",
   "metadata": {
    "id": "cfb275db"
   },
   "outputs": [],
   "source": [
    "len(df)"
   ]
  },
  {
   "cell_type": "code",
   "execution_count": null,
   "id": "b38e04b8",
   "metadata": {
    "id": "b38e04b8",
    "scrolled": true
   },
   "outputs": [],
   "source": [
    "df[\"image_name\"].nunique()"
   ]
  },
  {
   "cell_type": "markdown",
   "id": "22f20f9e",
   "metadata": {
    "id": "22f20f9e"
   },
   "source": [
    "### **콘텐츠 라이선스**\n",
    "\n",
    "<font color='red'><b>**WARNING**</b></font> : **본 교육 콘텐츠의 지식재산권은 재단법인 네이버커넥트에 귀속됩니다. 본 콘텐츠를 어떠한 경로로든 외부로 유출 및 수정하는 행위를 엄격히 금합니다.** 다만, 비영리적 교육 및 연구활동에 한정되어 사용할 수 있으나 재단의 허락을 받아야 합니다. 이를 위반하는 경우, 관련 법률에 따라 책임을 질 수 있습니다.\n",
    "\n",
    "### **데이터셋 저작권**\n",
    "\n",
    "<font color='red'><b>**WARNING**</b></font> : 캠프 교육용 라이선스 (대외 노출 금지)"
   ]
  }
 ],
 "metadata": {
  "colab": {
   "provenance": []
  },
  "kernelspec": {
   "display_name": "base",
   "language": "python",
   "name": "python3"
  },
  "language_info": {
   "codemirror_mode": {
    "name": "ipython",
    "version": 3
   },
   "file_extension": ".py",
   "mimetype": "text/x-python",
   "name": "python",
   "nbconvert_exporter": "python",
   "pygments_lexer": "ipython3",
   "version": "3.10.13"
  }
 },
 "nbformat": 4,
 "nbformat_minor": 5
}
